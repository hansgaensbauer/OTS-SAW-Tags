{
 "cells": [
  {
   "cell_type": "markdown",
   "id": "3e1c805b",
   "metadata": {},
   "source": [
    "# Tag Calculator\n",
    "This notebook calculates the different unequal splits for each of the splitters given a code length and SAW filter insertion loss.\n",
    "\n",
    "### Basic Tag Diagram\n",
    "![Basic Tag Diagram](Tag-Diagram.png \"Basic Tag Diagram\")\n",
    "This image shows a tag with a code length of 4.\n",
    "\n",
    "**Approach**\n",
    "\n",
    "For the nth tap, the signal needs to flow through $n-1$ filters, each of which introduce loss. If the loss is expressed as a ratio $r$ (not in dB), then the signal power required to obtain an output with power $s$ is: $$\\frac{s}{r^{n-1}} = sr^{-n+1}$$\n",
    "The total input signal power is the sum of the required powers to drive each tap, or $$\\sum_{n=1}^{t}sr^{-n+1} = sr\\sum_{n=1}^{t}(\\frac{1}{r})^{n} = s\\frac{1-(\\frac{1}{r})^{t}}{1-(\\frac{1}{r})} = s\\frac{r-(\\frac{1}{r})^{(t-1)}}{r-1}$$ where $t$ is the total number of taps. If the total input power is 1, then s, the power output of each tap, is: $$s=\\frac{r-1}{r-(\\frac{1}{r})^{(t-1)}}$$\n"
   ]
  },
  {
   "cell_type": "code",
   "execution_count": 1,
   "id": "af918b22",
   "metadata": {},
   "outputs": [],
   "source": [
    "import tabulate\n",
    "import numpy as np"
   ]
  },
  {
   "cell_type": "code",
   "execution_count": 2,
   "id": "e55e9cee",
   "metadata": {},
   "outputs": [],
   "source": [
    "# Inputs\n",
    "inst_code_length = 8\n",
    "inst_insertion_loss = 1.2 #dB\n",
    "frequency = 433.9e6"
   ]
  },
  {
   "cell_type": "code",
   "execution_count": 3,
   "id": "983d0af4",
   "metadata": {},
   "outputs": [],
   "source": [
    "def calc_splitters(code_length, insertion_loss):\n",
    "    r = 10**-(insertion_loss/10)\n",
    "     #The calculation from above\n",
    "    power_per_tap = (r-1)/(r-(1/r)**(code_length-1))\n",
    "\n",
    "    #For each splitter, calculate s parameters and output powers\n",
    "    input_power = 1\n",
    "    data = np.zeros((code_length-1, 5))\n",
    "    \n",
    "    for filter in range(code_length-1):\n",
    "        data[filter][3] = input_power - power_per_tap #Power going into the next filter\n",
    "        data[filter][4] = power_per_tap               #Power going out of this tap to the transmit antenna\n",
    "        data[filter][2] = data[filter][4]/input_power #S31\n",
    "        data[filter][1] = data[filter][3]/input_power #S21\n",
    "        data[filter][0] = filter                      #Filter IDX\n",
    "        input_power = data[filter][3] * 10**-(insertion_loss/10) #loss from the next filter    \n",
    "\n",
    "    return data"
   ]
  },
  {
   "cell_type": "code",
   "execution_count": 4,
   "id": "250c1d7c",
   "metadata": {},
   "outputs": [
    {
     "data": {
      "text/html": [
       "<table>\n",
       "<thead>\n",
       "<tr><th style=\"text-align: right;\">  Splitter</th><th style=\"text-align: right;\">     S21</th><th style=\"text-align: right;\">      S31</th><th style=\"text-align: right;\">  Power (P2)</th><th style=\"text-align: right;\">  Power (P3)</th></tr>\n",
       "</thead>\n",
       "<tbody>\n",
       "<tr><td style=\"text-align: right;\">         0</td><td style=\"text-align: right;\">0.960806</td><td style=\"text-align: right;\">0.0391937</td><td style=\"text-align: right;\">   0.960806 </td><td style=\"text-align: right;\">   0.0391937</td></tr>\n",
       "<tr><td style=\"text-align: right;\">         1</td><td style=\"text-align: right;\">0.946225</td><td style=\"text-align: right;\">0.0537749</td><td style=\"text-align: right;\">   0.689652 </td><td style=\"text-align: right;\">   0.0391937</td></tr>\n",
       "<tr><td style=\"text-align: right;\">         2</td><td style=\"text-align: right;\">0.925082</td><td style=\"text-align: right;\">0.0749179</td><td style=\"text-align: right;\">   0.483961 </td><td style=\"text-align: right;\">   0.0391937</td></tr>\n",
       "<tr><td style=\"text-align: right;\">         3</td><td style=\"text-align: right;\">0.893241</td><td style=\"text-align: right;\">0.106759 </td><td style=\"text-align: right;\">   0.327929 </td><td style=\"text-align: right;\">   0.0391937</td></tr>\n",
       "<tr><td style=\"text-align: right;\">         4</td><td style=\"text-align: right;\">0.842443</td><td style=\"text-align: right;\">0.157557 </td><td style=\"text-align: right;\">   0.209566 </td><td style=\"text-align: right;\">   0.0391937</td></tr>\n",
       "<tr><td style=\"text-align: right;\">         5</td><td style=\"text-align: right;\">0.753455</td><td style=\"text-align: right;\">0.246545 </td><td style=\"text-align: right;\">   0.119778 </td><td style=\"text-align: right;\">   0.0391937</td></tr>\n",
       "<tr><td style=\"text-align: right;\">         6</td><td style=\"text-align: right;\">0.568641</td><td style=\"text-align: right;\">0.431359 </td><td style=\"text-align: right;\">   0.0516673</td><td style=\"text-align: right;\">   0.0391937</td></tr>\n",
       "</tbody>\n",
       "</table>"
      ],
      "text/plain": [
       "'<table>\\n<thead>\\n<tr><th style=\"text-align: right;\">  Splitter</th><th style=\"text-align: right;\">     S21</th><th style=\"text-align: right;\">      S31</th><th style=\"text-align: right;\">  Power (P2)</th><th style=\"text-align: right;\">  Power (P3)</th></tr>\\n</thead>\\n<tbody>\\n<tr><td style=\"text-align: right;\">         0</td><td style=\"text-align: right;\">0.960806</td><td style=\"text-align: right;\">0.0391937</td><td style=\"text-align: right;\">   0.960806 </td><td style=\"text-align: right;\">   0.0391937</td></tr>\\n<tr><td style=\"text-align: right;\">         1</td><td style=\"text-align: right;\">0.946225</td><td style=\"text-align: right;\">0.0537749</td><td style=\"text-align: right;\">   0.689652 </td><td style=\"text-align: right;\">   0.0391937</td></tr>\\n<tr><td style=\"text-align: right;\">         2</td><td style=\"text-align: right;\">0.925082</td><td style=\"text-align: right;\">0.0749179</td><td style=\"text-align: right;\">   0.483961 </td><td style=\"text-align: right;\">   0.0391937</td></tr>\\n<tr><td style=\"text-align: right;\">         3</td><td style=\"text-align: right;\">0.893241</td><td style=\"text-align: right;\">0.106759 </td><td style=\"text-align: right;\">   0.327929 </td><td style=\"text-align: right;\">   0.0391937</td></tr>\\n<tr><td style=\"text-align: right;\">         4</td><td style=\"text-align: right;\">0.842443</td><td style=\"text-align: right;\">0.157557 </td><td style=\"text-align: right;\">   0.209566 </td><td style=\"text-align: right;\">   0.0391937</td></tr>\\n<tr><td style=\"text-align: right;\">         5</td><td style=\"text-align: right;\">0.753455</td><td style=\"text-align: right;\">0.246545 </td><td style=\"text-align: right;\">   0.119778 </td><td style=\"text-align: right;\">   0.0391937</td></tr>\\n<tr><td style=\"text-align: right;\">         6</td><td style=\"text-align: right;\">0.568641</td><td style=\"text-align: right;\">0.431359 </td><td style=\"text-align: right;\">   0.0516673</td><td style=\"text-align: right;\">   0.0391937</td></tr>\\n</tbody>\\n</table>'"
      ]
     },
     "execution_count": 4,
     "metadata": {},
     "output_type": "execute_result"
    }
   ],
   "source": [
    "splitter_data = calc_splitters(inst_code_length, inst_insertion_loss)\n",
    "splitter_table_headers = [\"Splitter\", \"S21\", \"S31\", \"Power (P2)\", \"Power (P3)\"]\n",
    "splitter_table = tabulate.tabulate(splitter_data, splitter_table_headers, tablefmt='html')\n",
    "splitter_table"
   ]
  },
  {
   "attachments": {
    "image.png": {
     "image/png": "[encoded data removed]"
    }
   },
   "cell_type": "markdown",
   "id": "fb0c5f3d",
   "metadata": {},
   "source": [
    "## Impedance Calculations\n",
    "From https://www.microwaves101.com/calculators/871-unequal-split-power-divider-calculator:\n",
    "![image.png](attachment:image.png)"
   ]
  },
  {
   "cell_type": "code",
   "execution_count": 5,
   "id": "f0bb92a5",
   "metadata": {},
   "outputs": [],
   "source": [
    "def calc_impedance(Z_0, P_A, P_B):\n",
    "    r = P_A/P_B\n",
    "    Z_0A = Z_0*(r**-1.5+r**-0.5)**0.5\n",
    "    Z_0B = Z_0*(1+r)**0.5*r**0.25\n",
    "    Z_0C = Z_0*r**-0.25\n",
    "    Z_0D = Z_0*r**0.25\n",
    "    R_W = Z_0*(r**0.5+r**-0.5)\n",
    "    return [Z_0A, Z_0B, Z_0C, Z_0D, R_W]"
   ]
  },
  {
   "attachments": {
    "image.png": {
     "image/png": "[encoded data removed]"
    }
   },
   "cell_type": "markdown",
   "id": "d6127e39",
   "metadata": {},
   "source": [
    "Using these component labels:\n",
    "![image.png](attachment:image.png)"
   ]
  },
  {
   "cell_type": "code",
   "execution_count": 6,
   "id": "6acade42",
   "metadata": {},
   "outputs": [],
   "source": [
    "def calc_values(impedances, f_c):\n",
    "    Z_0A = impedances[0]\n",
    "    Z_0B = impedances[1]\n",
    "    Z_0C = impedances[2]\n",
    "    Z_0D = impedances[3]\n",
    "    R_W = impedances[4]\n",
    "    #Order: R1, C1, C2, C3, C4, C5, L1, L2, L3, L4\n",
    "    L1 = Z_0A/(2 * np.pi * f_c) * 10e9\n",
    "    L2 = Z_0B/(2 * np.pi * f_c) * 10e9\n",
    "    L3 = Z_0D/(2 * np.pi * f_c) * 10e9\n",
    "    L4 = Z_0C/(2 * np.pi * f_c) * 10e9\n",
    "    C4 = 1/(Z_0D * 2 * np.pi * f_c) * 10e12\n",
    "    C5 = 1/(Z_0C * 2 * np.pi * f_c) * 10e12\n",
    "    C1 = 1/(Z_0A * 2 * np.pi * f_c) + 1/(Z_0B * 2 * np.pi * f_c) * 10e12\n",
    "    C2 = 1/(Z_0A * 2 * np.pi * f_c) + 1/(Z_0C * 2 * np.pi * f_c) * 10e12\n",
    "    C3 = 1/(Z_0B * 2 * np.pi * f_c) + 1/(Z_0D * 2 * np.pi * f_c) * 10e12\n",
    "    return [R_W, C1, C2, C3, C4, C5, L1, L2, L3, L4]"
   ]
  },
  {
   "cell_type": "code",
   "execution_count": 7,
   "id": "2c52eb05",
   "metadata": {},
   "outputs": [
    {
     "data": {
      "text/html": [
       "<table>\n",
       "<thead>\n",
       "<tr><th style=\"text-align: right;\">  Splitter</th><th style=\"text-align: right;\">  R0 (Ω)</th><th style=\"text-align: right;\">  C1 (pF)</th><th style=\"text-align: right;\">  C2 (pF)</th><th style=\"text-align: right;\">  C3 (pF)</th><th style=\"text-align: right;\">  C4 (pF)</th><th style=\"text-align: right;\">  C5 (pF)</th><th style=\"text-align: right;\">  L1 (nH)</th><th style=\"text-align: right;\">  L2 (nH)</th><th style=\"text-align: right;\">  L3 (nH)</th><th style=\"text-align: right;\">  L4 (nH)</th></tr>\n",
       "</thead>\n",
       "<tbody>\n",
       "<tr><td style=\"text-align: right;\">         0</td><td style=\"text-align: right;\"> 257.658</td><td style=\"text-align: right;\">  6.527  </td><td style=\"text-align: right;\"> 163.236 </td><td style=\"text-align: right;\">  32.969 </td><td style=\"text-align: right;\">  32.969 </td><td style=\"text-align: right;\"> 163.236 </td><td style=\"text-align: right;\">  84.0867</td><td style=\"text-align: right;\"> 2061.33 </td><td style=\"text-align: right;\">  408.09 </td><td style=\"text-align: right;\">  82.4224</td></tr>\n",
       "<tr><td style=\"text-align: right;\">         1</td><td style=\"text-align: right;\"> 221.658</td><td style=\"text-align: right;\">  8.30609</td><td style=\"text-align: right;\"> 150.25  </td><td style=\"text-align: right;\">  35.8185</td><td style=\"text-align: right;\">  35.8185</td><td style=\"text-align: right;\"> 150.25  </td><td style=\"text-align: right;\">  92.0555</td><td style=\"text-align: right;\"> 1619.81 </td><td style=\"text-align: right;\">  375.625</td><td style=\"text-align: right;\">  89.5461</td></tr>\n",
       "<tr><td style=\"text-align: right;\">         2</td><td style=\"text-align: right;\"> 189.927</td><td style=\"text-align: right;\"> 10.7116 </td><td style=\"text-align: right;\"> 137.518 </td><td style=\"text-align: right;\">  39.1347</td><td style=\"text-align: right;\">  39.1347</td><td style=\"text-align: right;\"> 137.518 </td><td style=\"text-align: right;\"> 101.721 </td><td style=\"text-align: right;\"> 1256.05 </td><td style=\"text-align: right;\">  343.795</td><td style=\"text-align: right;\">  97.8367</td></tr>\n",
       "<tr><td style=\"text-align: right;\">         3</td><td style=\"text-align: right;\"> 161.914</td><td style=\"text-align: right;\"> 14.0936 </td><td style=\"text-align: right;\"> 124.767 </td><td style=\"text-align: right;\">  43.134 </td><td style=\"text-align: right;\">  43.134 </td><td style=\"text-align: right;\"> 124.767 </td><td style=\"text-align: right;\"> 114.097 </td><td style=\"text-align: right;\">  954.638</td><td style=\"text-align: right;\">  311.919</td><td style=\"text-align: right;\"> 107.835 </td></tr>\n",
       "<tr><td style=\"text-align: right;\">         4</td><td style=\"text-align: right;\"> 137.24 </td><td style=\"text-align: right;\"> 19.1493 </td><td style=\"text-align: right;\"> 111.554 </td><td style=\"text-align: right;\">  48.243 </td><td style=\"text-align: right;\">  48.243 </td><td style=\"text-align: right;\"> 111.554 </td><td style=\"text-align: right;\"> 131.403 </td><td style=\"text-align: right;\">  702.6  </td><td style=\"text-align: right;\">  278.886</td><td style=\"text-align: right;\"> 120.608 </td></tr>\n",
       "<tr><td style=\"text-align: right;\">         5</td><td style=\"text-align: right;\"> 116.009</td><td style=\"text-align: right;\"> 27.5498 </td><td style=\"text-align: right;\">  96.9953</td><td style=\"text-align: right;\">  55.4843</td><td style=\"text-align: right;\">  55.4843</td><td style=\"text-align: right;\">  96.9953</td><td style=\"text-align: right;\"> 159.802 </td><td style=\"text-align: right;\">  488.363</td><td style=\"text-align: right;\">  242.488</td><td style=\"text-align: right;\"> 138.711 </td></tr>\n",
       "<tr><td style=\"text-align: right;\">         6</td><td style=\"text-align: right;\"> 100.956</td><td style=\"text-align: right;\"> 44.9655 </td><td style=\"text-align: right;\">  78.6069</td><td style=\"text-align: right;\">  68.4637</td><td style=\"text-align: right;\">  68.4637</td><td style=\"text-align: right;\">  78.6069</td><td style=\"text-align: right;\"> 226.977 </td><td style=\"text-align: right;\">  299.214</td><td style=\"text-align: right;\">  196.517</td><td style=\"text-align: right;\"> 171.159 </td></tr>\n",
       "</tbody>\n",
       "</table>"
      ],
      "text/plain": [
       "'<table>\\n<thead>\\n<tr><th style=\"text-align: right;\">  Splitter</th><th style=\"text-align: right;\">  R0 (Ω)</th><th style=\"text-align: right;\">  C1 (pF)</th><th style=\"text-align: right;\">  C2 (pF)</th><th style=\"text-align: right;\">  C3 (pF)</th><th style=\"text-align: right;\">  C4 (pF)</th><th style=\"text-align: right;\">  C5 (pF)</th><th style=\"text-align: right;\">  L1 (nH)</th><th style=\"text-align: right;\">  L2 (nH)</th><th style=\"text-align: right;\">  L3 (nH)</th><th style=\"text-align: right;\">  L4 (nH)</th></tr>\\n</thead>\\n<tbody>\\n<tr><td style=\"text-align: right;\">         0</td><td style=\"text-align: right;\"> 257.658</td><td style=\"text-align: right;\">  6.527  </td><td style=\"text-align: right;\"> 163.236 </td><td style=\"text-align: right;\">  32.969 </td><td style=\"text-align: right;\">  32.969 </td><td style=\"text-align: right;\"> 163.236 </td><td style=\"text-align: right;\">  84.0867</td><td style=\"text-align: right;\"> 2061.33 </td><td style=\"text-align: right;\">  408.09 </td><td style=\"text-align: right;\">  82.4224</td></tr>\\n<tr><td style=\"text-align: right;\">         1</td><td style=\"text-align: right;\"> 221.658</td><td style=\"text-align: right;\">  8.30609</td><td style=\"text-align: right;\"> 150.25  </td><td style=\"text-align: right;\">  35.8185</td><td style=\"text-align: right;\">  35.8185</td><td style=\"text-align: right;\"> 150.25  </td><td style=\"text-align: right;\">  92.0555</td><td style=\"text-align: right;\"> 1619.81 </td><td style=\"text-align: right;\">  375.625</td><td style=\"text-align: right;\">  89.5461</td></tr>\\n<tr><td style=\"text-align: right;\">         2</td><td style=\"text-align: right;\"> 189.927</td><td style=\"text-align: right;\"> 10.7116 </td><td style=\"text-align: right;\"> 137.518 </td><td style=\"text-align: right;\">  39.1347</td><td style=\"text-align: right;\">  39.1347</td><td style=\"text-align: right;\"> 137.518 </td><td style=\"text-align: right;\"> 101.721 </td><td style=\"text-align: right;\"> 1256.05 </td><td style=\"text-align: right;\">  343.795</td><td style=\"text-align: right;\">  97.8367</td></tr>\\n<tr><td style=\"text-align: right;\">         3</td><td style=\"text-align: right;\"> 161.914</td><td style=\"text-align: right;\"> 14.0936 </td><td style=\"text-align: right;\"> 124.767 </td><td style=\"text-align: right;\">  43.134 </td><td style=\"text-align: right;\">  43.134 </td><td style=\"text-align: right;\"> 124.767 </td><td style=\"text-align: right;\"> 114.097 </td><td style=\"text-align: right;\">  954.638</td><td style=\"text-align: right;\">  311.919</td><td style=\"text-align: right;\"> 107.835 </td></tr>\\n<tr><td style=\"text-align: right;\">         4</td><td style=\"text-align: right;\"> 137.24 </td><td style=\"text-align: right;\"> 19.1493 </td><td style=\"text-align: right;\"> 111.554 </td><td style=\"text-align: right;\">  48.243 </td><td style=\"text-align: right;\">  48.243 </td><td style=\"text-align: right;\"> 111.554 </td><td style=\"text-align: right;\"> 131.403 </td><td style=\"text-align: right;\">  702.6  </td><td style=\"text-align: right;\">  278.886</td><td style=\"text-align: right;\"> 120.608 </td></tr>\\n<tr><td style=\"text-align: right;\">         5</td><td style=\"text-align: right;\"> 116.009</td><td style=\"text-align: right;\"> 27.5498 </td><td style=\"text-align: right;\">  96.9953</td><td style=\"text-align: right;\">  55.4843</td><td style=\"text-align: right;\">  55.4843</td><td style=\"text-align: right;\">  96.9953</td><td style=\"text-align: right;\"> 159.802 </td><td style=\"text-align: right;\">  488.363</td><td style=\"text-align: right;\">  242.488</td><td style=\"text-align: right;\"> 138.711 </td></tr>\\n<tr><td style=\"text-align: right;\">         6</td><td style=\"text-align: right;\"> 100.956</td><td style=\"text-align: right;\"> 44.9655 </td><td style=\"text-align: right;\">  78.6069</td><td style=\"text-align: right;\">  68.4637</td><td style=\"text-align: right;\">  68.4637</td><td style=\"text-align: right;\">  78.6069</td><td style=\"text-align: right;\"> 226.977 </td><td style=\"text-align: right;\">  299.214</td><td style=\"text-align: right;\">  196.517</td><td style=\"text-align: right;\"> 171.159 </td></tr>\\n</tbody>\\n</table>'"
      ]
     },
     "execution_count": 7,
     "metadata": {},
     "output_type": "execute_result"
    }
   ],
   "source": [
    "#Make a table for every splitter\n",
    "values = np.zeros((len(splitter_data), 11))\n",
    "for s_idx in range(len(splitter_data)):\n",
    "    impedances = calc_impedance(50, splitter_data[s_idx][3], splitter_data[s_idx][4])\n",
    "    values[s_idx] = np.concatenate(([s_idx], calc_values(impedances, frequency)))\n",
    "    \n",
    "values = values\n",
    "value_table_headers = [\"Splitter\", \"R0 (Ω)\", \"C1 (pF)\", \"C2 (pF)\", \"C3 (pF)\", \"C4 (pF)\", \"C5 (pF)\", \n",
    "                       \"L1 (nH)\", \"L2 (nH)\", \"L3 (nH)\", \"L4 (nH)\"]\n",
    "value_table = tabulate.tabulate(values, value_table_headers, tablefmt='html')\n",
    "value_table"
   ]
  }
 ],
 "metadata": {
  "kernelspec": {
   "display_name": "Python 3 (ipykernel)",
   "language": "python",
   "name": "python3"
  },
  "language_info": {
   "codemirror_mode": {
    "name": "ipython",
    "version": 3
   },
   "file_extension": ".py",
   "mimetype": "text/x-python",
   "name": "python",
   "nbconvert_exporter": "python",
   "pygments_lexer": "ipython3",
   "version": "3.10.2"
  }
 },
 "nbformat": 4,
 "nbformat_minor": 5
}
