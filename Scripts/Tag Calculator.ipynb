{
 "cells": [
  {
   "cell_type": "markdown",
   "id": "3e1c805b",
   "metadata": {},
   "source": [
    "# Tag Calculator\n",
    "This notebook calculates the different unequal splits for each of the splitters given a code length and SAW filter insertion loss.\n",
    "\n",
    "### Basic Tag Diagram\n",
    "![Basic Tag Diagram](Tag-Diagram.png \"Basic Tag Diagram\")\n",
    "This image shows a tag with a code length of 4."
   ]
  },
  {
   "cell_type": "code",
   "execution_count": 6,
   "id": "af918b22",
   "metadata": {},
   "outputs": [],
   "source": [
    "import tabulate\n",
    "import numpy as np"
   ]
  },
  {
   "cell_type": "code",
   "execution_count": 1,
   "id": "e55e9cee",
   "metadata": {},
   "outputs": [],
   "source": [
    "# Inputs\n",
    "inst_code_length = 8\n",
    "inst_insertion_loss = 1.2 #dB"
   ]
  },
  {
   "cell_type": "code",
   "execution_count": 18,
   "id": "983d0af4",
   "metadata": {},
   "outputs": [],
   "source": [
    "def calc_splitters(code_length, insertion_loss):\n",
    "    power_per_tap = (1-power_loss)/code_length #The amount of power we want out of each tap\n",
    "\n",
    "    #For each splitter, calculate s parameters and output powers\n",
    "    input_power = 1\n",
    "    data = np.zeros((code_length, 5))\n",
    "    headers = [\"Splitter\", \"S21\", \"S31\", \"Power (P2)\", \"Power (P3)\"]\n",
    "    \n",
    "    for filter in range(code_length):\n",
    "        data[filter][3] = input_power - power_per_tap #Power going into the next filter\n",
    "        data[filter][4] = power_per_tap               #Power going out of this tap to the transmit antenna\n",
    "        data[filter][2] = data[filter][4]/input_power #S31\n",
    "        data[filter][1] = data[filter][3]/input_power #S21\n",
    "        data[filter][0] = filter                      #Filter IDX\n",
    "        input_power = data[filter][3] * 10**-(insertion_loss/10) #loss from the next filter    \n",
    "\n",
    "    table = tabulate.tabulate(data, headers, tablefmt='html')\n",
    "    return table"
   ]
  },
  {
   "cell_type": "code",
   "execution_count": 19,
   "id": "250c1d7c",
   "metadata": {},
   "outputs": [
    {
     "data": {
      "text/html": [
       "<table>\n",
       "<thead>\n",
       "<tr><th style=\"text-align: right;\">  Splitter</th><th style=\"text-align: right;\">      S21</th><th style=\"text-align: right;\">      S31</th><th style=\"text-align: right;\">  Power (P2)</th><th style=\"text-align: right;\">  Power (P3)</th></tr>\n",
       "</thead>\n",
       "<tbody>\n",
       "<tr><td style=\"text-align: right;\">         0</td><td style=\"text-align: right;\"> 0.875   </td><td style=\"text-align: right;\"> 0.125   </td><td style=\"text-align: right;\">   0.875    </td><td style=\"text-align: right;\">       0.125</td></tr>\n",
       "<tr><td style=\"text-align: right;\">         1</td><td style=\"text-align: right;\"> 0.811678</td><td style=\"text-align: right;\"> 0.188322</td><td style=\"text-align: right;\">   0.538755 </td><td style=\"text-align: right;\">       0.125</td></tr>\n",
       "<tr><td style=\"text-align: right;\">         2</td><td style=\"text-align: right;\"> 0.694143</td><td style=\"text-align: right;\"> 0.305857</td><td style=\"text-align: right;\">   0.283688 </td><td style=\"text-align: right;\">       0.125</td></tr>\n",
       "<tr><td style=\"text-align: right;\">         3</td><td style=\"text-align: right;\"> 0.419143</td><td style=\"text-align: right;\"> 0.580857</td><td style=\"text-align: right;\">   0.0901992</td><td style=\"text-align: right;\">       0.125</td></tr>\n",
       "<tr><td style=\"text-align: right;\">         4</td><td style=\"text-align: right;\">-0.826869</td><td style=\"text-align: right;\"> 1.82687 </td><td style=\"text-align: right;\">  -0.0565769</td><td style=\"text-align: right;\">       0.125</td></tr>\n",
       "<tr><td style=\"text-align: right;\">         5</td><td style=\"text-align: right;\"> 3.91253 </td><td style=\"text-align: right;\">-2.91253 </td><td style=\"text-align: right;\">  -0.167918 </td><td style=\"text-align: right;\">       0.125</td></tr>\n",
       "<tr><td style=\"text-align: right;\">         6</td><td style=\"text-align: right;\"> 1.98132 </td><td style=\"text-align: right;\">-0.981325</td><td style=\"text-align: right;\">  -0.252379 </td><td style=\"text-align: right;\">       0.125</td></tr>\n",
       "<tr><td style=\"text-align: right;\">         7</td><td style=\"text-align: right;\"> 1.65292 </td><td style=\"text-align: right;\">-0.652916</td><td style=\"text-align: right;\">  -0.316449 </td><td style=\"text-align: right;\">       0.125</td></tr>\n",
       "</tbody>\n",
       "</table>"
      ],
      "text/plain": [
       "'<table>\\n<thead>\\n<tr><th style=\"text-align: right;\">  Splitter</th><th style=\"text-align: right;\">      S21</th><th style=\"text-align: right;\">      S31</th><th style=\"text-align: right;\">  Power (P2)</th><th style=\"text-align: right;\">  Power (P3)</th></tr>\\n</thead>\\n<tbody>\\n<tr><td style=\"text-align: right;\">         0</td><td style=\"text-align: right;\"> 0.875   </td><td style=\"text-align: right;\"> 0.125   </td><td style=\"text-align: right;\">   0.875    </td><td style=\"text-align: right;\">       0.125</td></tr>\\n<tr><td style=\"text-align: right;\">         1</td><td style=\"text-align: right;\"> 0.811678</td><td style=\"text-align: right;\"> 0.188322</td><td style=\"text-align: right;\">   0.538755 </td><td style=\"text-align: right;\">       0.125</td></tr>\\n<tr><td style=\"text-align: right;\">         2</td><td style=\"text-align: right;\"> 0.694143</td><td style=\"text-align: right;\"> 0.305857</td><td style=\"text-align: right;\">   0.283688 </td><td style=\"text-align: right;\">       0.125</td></tr>\\n<tr><td style=\"text-align: right;\">         3</td><td style=\"text-align: right;\"> 0.419143</td><td style=\"text-align: right;\"> 0.580857</td><td style=\"text-align: right;\">   0.0901992</td><td style=\"text-align: right;\">       0.125</td></tr>\\n<tr><td style=\"text-align: right;\">         4</td><td style=\"text-align: right;\">-0.826869</td><td style=\"text-align: right;\"> 1.82687 </td><td style=\"text-align: right;\">  -0.0565769</td><td style=\"text-align: right;\">       0.125</td></tr>\\n<tr><td style=\"text-align: right;\">         5</td><td style=\"text-align: right;\"> 3.91253 </td><td style=\"text-align: right;\">-2.91253 </td><td style=\"text-align: right;\">  -0.167918 </td><td style=\"text-align: right;\">       0.125</td></tr>\\n<tr><td style=\"text-align: right;\">         6</td><td style=\"text-align: right;\"> 1.98132 </td><td style=\"text-align: right;\">-0.981325</td><td style=\"text-align: right;\">  -0.252379 </td><td style=\"text-align: right;\">       0.125</td></tr>\\n<tr><td style=\"text-align: right;\">         7</td><td style=\"text-align: right;\"> 1.65292 </td><td style=\"text-align: right;\">-0.652916</td><td style=\"text-align: right;\">  -0.316449 </td><td style=\"text-align: right;\">       0.125</td></tr>\\n</tbody>\\n</table>'"
      ]
     },
     "execution_count": 19,
     "metadata": {},
     "output_type": "execute_result"
    }
   ],
   "source": [
    "calc_splitters(8, 1.2)"
   ]
  }
 ],
 "metadata": {
  "kernelspec": {
   "display_name": "Python 3 (ipykernel)",
   "language": "python",
   "name": "python3"
  },
  "language_info": {
   "codemirror_mode": {
    "name": "ipython",
    "version": 3
   },
   "file_extension": ".py",
   "mimetype": "text/x-python",
   "name": "python",
   "nbconvert_exporter": "python",
   "pygments_lexer": "ipython3",
   "version": "3.10.2"
  }
 },
 "nbformat": 4,
 "nbformat_minor": 5
}
